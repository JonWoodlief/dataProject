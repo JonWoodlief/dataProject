{
 "cells": [
  {
   "cell_type": "code",
   "execution_count": 21,
   "metadata": {},
   "outputs": [],
   "source": [
    "from wordcloud import WordCloud\n",
    "import os\n",
    "import json\n",
    "from collections import defaultdict"
   ]
  },
  {
   "cell_type": "code",
   "execution_count": 33,
   "metadata": {},
   "outputs": [
    {
     "name": "stdout",
     "output_type": "stream",
     "text": [
      "exception occured\n",
      "exception occured\n",
      "exception occured\n",
      "exception occured\n",
      "exception occured\n",
      "exception occured\n",
      "exception occured\n",
      "exception occured\n",
      "exception occured\n",
      "exception occured\n",
      "exception occured\n",
      "exception occured\n",
      "exception occured\n",
      "exception occured\n",
      "exception occured\n",
      "exception occured\n",
      "exception occured\n",
      "exception occured\n",
      "exception occured\n",
      "exception occured\n",
      "exception occured\n",
      "exception occured\n",
      "exception occured\n",
      "exception occured\n",
      "exception occured\n",
      "exception occured\n",
      "exception occured\n",
      "exception occured\n",
      "exception occured\n",
      "exception occured\n",
      "exception occured\n",
      "exception occured\n",
      "exception occured\n",
      "exception occured\n",
      "exception occured\n",
      "exception occured\n",
      "exception occured\n",
      "exception occured\n",
      "exception occured\n",
      "exception occured\n",
      "exception occured\n",
      "exception occured\n",
      "exception occured\n",
      "exception occured\n",
      "exception occured\n",
      "exception occured\n",
      "exception occured\n",
      "exception occured\n",
      "exception occured\n",
      "exception occured\n",
      "exception occured\n",
      "exception occured\n",
      "exception occured\n",
      "exception occured\n",
      "exception occured\n",
      "exception occured\n",
      "exception occured\n",
      "exception occured\n",
      "exception occured\n",
      "exception occured\n",
      "exception occured\n",
      "exception occured\n",
      "exception occured\n",
      "exception occured\n",
      "exception occured\n",
      "exception occured\n",
      "exception occured\n",
      "exception occured\n",
      "exception occured\n",
      "exception occured\n",
      "exception occured\n",
      "exception occured\n",
      "exception occured\n",
      "exception occured\n",
      "exception occured\n",
      "exception occured\n",
      "exception occured\n",
      "exception occured\n",
      "exception occured\n",
      "exception occured\n",
      "exception occured\n",
      "exception occured\n",
      "exception occured\n",
      "exception occured\n",
      "exception occured\n",
      "exception occured\n",
      "exception occured\n",
      "exception occured\n",
      "exception occured\n",
      "exception occured\n",
      "exception occured\n"
     ]
    }
   ],
   "source": [
    "directory = \"bigCollection\"\n",
    "wordDict = defaultdict(int)\n",
    "\n",
    "for filename in os.listdir(directory):\n",
    "    try:\n",
    "        with open(os.path.join(directory, filename)) as jsonFile:\n",
    "            data = json.load(jsonFile)\n",
    "            fields = data[\"data\"][\"latestVersion\"][\"metadataBlocks\"][\"citation\"][\"fields\"]\n",
    "            for field in fields:\n",
    "                if field[\"typeName\"] == \"keyword\":\n",
    "                    for value in field[\"value\"]:\n",
    "                        wordDict[value[\"keywordValue\"][\"value\"]] += 1\n",
    "    except:\n",
    "        print(\"exception occured\")"
   ]
  },
  {
   "cell_type": "code",
   "execution_count": 35,
   "metadata": {},
   "outputs": [
    {
     "ename": "NameError",
     "evalue": "name 'img' is not defined",
     "output_type": "error",
     "traceback": [
      "\u001b[0;31m---------------------------------------------------------------------------\u001b[0m",
      "\u001b[0;31mNameError\u001b[0m                                 Traceback (most recent call last)",
      "\u001b[0;32m<ipython-input-35-4cf3b6957135>\u001b[0m in \u001b[0;36m<module>\u001b[0;34m\u001b[0m\n\u001b[1;32m      3\u001b[0m \u001b[0;34m\u001b[0m\u001b[0m\n\u001b[1;32m      4\u001b[0m \u001b[0mwc\u001b[0m \u001b[0;34m=\u001b[0m \u001b[0mWordCloud\u001b[0m\u001b[0;34m(\u001b[0m\u001b[0mbackground_color\u001b[0m\u001b[0;34m=\u001b[0m\u001b[0;34m\"white\"\u001b[0m\u001b[0;34m,\u001b[0m\u001b[0mwidth\u001b[0m\u001b[0;34m=\u001b[0m\u001b[0;36m2000\u001b[0m\u001b[0;34m,\u001b[0m\u001b[0mheight\u001b[0m\u001b[0;34m=\u001b[0m\u001b[0;36m2000\u001b[0m\u001b[0;34m,\u001b[0m \u001b[0mmax_words\u001b[0m\u001b[0;34m=\u001b[0m\u001b[0;36m100\u001b[0m\u001b[0;34m,\u001b[0m\u001b[0mrelative_scaling\u001b[0m\u001b[0;34m=\u001b[0m\u001b[0;36m0.5\u001b[0m\u001b[0;34m,\u001b[0m\u001b[0mnormalize_plurals\u001b[0m\u001b[0;34m=\u001b[0m\u001b[0;32mFalse\u001b[0m\u001b[0;34m)\u001b[0m\u001b[0;34m.\u001b[0m\u001b[0mgenerate_from_frequencies\u001b[0m\u001b[0;34m(\u001b[0m\u001b[0mdict\u001b[0m\u001b[0;34m(\u001b[0m\u001b[0mwordDict\u001b[0m\u001b[0;34m)\u001b[0m\u001b[0;34m)\u001b[0m\u001b[0;34m\u001b[0m\u001b[0;34m\u001b[0m\u001b[0m\n\u001b[0;32m----> 5\u001b[0;31m \u001b[0mwc\u001b[0m\u001b[0;34m.\u001b[0m\u001b[0mto_file\u001b[0m\u001b[0;34m(\u001b[0m\u001b[0mimg\u001b[0m\u001b[0;34m.\u001b[0m\u001b[0mpng\u001b[0m\u001b[0;34m)\u001b[0m\u001b[0;34m\u001b[0m\u001b[0;34m\u001b[0m\u001b[0m\n\u001b[0m\u001b[1;32m      6\u001b[0m \u001b[0mplt\u001b[0m\u001b[0;34m.\u001b[0m\u001b[0mimshow\u001b[0m\u001b[0;34m(\u001b[0m\u001b[0mwc\u001b[0m\u001b[0;34m)\u001b[0m\u001b[0;34m\u001b[0m\u001b[0;34m\u001b[0m\u001b[0m\n",
      "\u001b[0;31mNameError\u001b[0m: name 'img' is not defined"
     ]
    }
   ],
   "source": [
    "from PIL import Image\n",
    "import matplotlib.pyplot as plt\n",
    "\n",
    "wc = WordCloud(background_color=\"white\",width=2000,height=2000, max_words=100,relative_scaling=0.5,normalize_plurals=False).generate_from_frequencies(dict(wordDict))\n",
    "wc.to_file(\"img.png)\n",
    "plt.imshow(wc)"
   ]
  },
  {
   "cell_type": "code",
   "execution_count": null,
   "metadata": {},
   "outputs": [],
   "source": [
    "J"
   ]
  }
 ],
 "metadata": {
  "kernelspec": {
   "display_name": "Python 3",
   "language": "python",
   "name": "python3"
  },
  "language_info": {
   "codemirror_mode": {
    "name": "ipython",
    "version": 3
   },
   "file_extension": ".py",
   "mimetype": "text/x-python",
   "name": "python",
   "nbconvert_exporter": "python",
   "pygments_lexer": "ipython3",
   "version": "3.8.0"
  }
 },
 "nbformat": 4,
 "nbformat_minor": 2
}
